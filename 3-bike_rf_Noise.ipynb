{
 "cells": [
  {
   "cell_type": "code",
   "execution_count": 1,
   "id": "9bdd46f1-70e1-4c5f-b39e-f07d59746408",
   "metadata": {},
   "outputs": [],
   "source": [
    "import warnings;\n",
    "warnings.filterwarnings('ignore')\n",
    "import pandas as pd\n",
    "import numpy as np\n",
    "import matplotlib.pyplot as plt\n",
    "import seaborn as sns\n",
    "%matplotlib inline"
   ]
  },
  {
   "cell_type": "code",
   "execution_count": 2,
   "id": "6b07dd5a-78fa-4135-bf1f-3d7eda77f500",
   "metadata": {},
   "outputs": [],
   "source": [
    "sns.set_palette(\"rainbow\")\n",
    "df = pd.read_csv('./data2020_mod.csv')"
   ]
  },
  {
   "cell_type": "code",
   "execution_count": 3,
   "id": "da6c210c-3765-4f54-9782-987d2199b429",
   "metadata": {},
   "outputs": [
    {
     "data": {
      "text/html": [
       "<div>\n",
       "<style scoped>\n",
       "    .dataframe tbody tr th:only-of-type {\n",
       "        vertical-align: middle;\n",
       "    }\n",
       "\n",
       "    .dataframe tbody tr th {\n",
       "        vertical-align: top;\n",
       "    }\n",
       "\n",
       "    .dataframe thead th {\n",
       "        text-align: right;\n",
       "    }\n",
       "</style>\n",
       "<table border=\"1\" class=\"dataframe\">\n",
       "  <thead>\n",
       "    <tr style=\"text-align: right;\">\n",
       "      <th></th>\n",
       "      <th>prefRoute</th>\n",
       "      <th>Max Temp (°C)</th>\n",
       "      <th>Total Rain (mm)</th>\n",
       "      <th>Total Snow (cm)</th>\n",
       "      <th>Snow on Grnd (cm)</th>\n",
       "      <th>Dir of Max Gust (10s deg)</th>\n",
       "      <th>Spd of Max Gust (km/h)</th>\n",
       "      <th>hours of daylight (hrs)</th>\n",
       "      <th>UV Index</th>\n",
       "      <th>holiday</th>\n",
       "      <th>weekday</th>\n",
       "      <th>humidity</th>\n",
       "    </tr>\n",
       "  </thead>\n",
       "  <tbody>\n",
       "    <tr>\n",
       "      <th>0</th>\n",
       "      <td>ADAWE</td>\n",
       "      <td>1.1</td>\n",
       "      <td>0.0</td>\n",
       "      <td>0.0</td>\n",
       "      <td>15</td>\n",
       "      <td>26.0</td>\n",
       "      <td>35</td>\n",
       "      <td>9.2</td>\n",
       "      <td>1.2</td>\n",
       "      <td>1</td>\n",
       "      <td>3</td>\n",
       "      <td>0.8</td>\n",
       "    </tr>\n",
       "    <tr>\n",
       "      <th>1</th>\n",
       "      <td>LMET</td>\n",
       "      <td>4.4</td>\n",
       "      <td>0.0</td>\n",
       "      <td>0.0</td>\n",
       "      <td>15</td>\n",
       "      <td>20.0</td>\n",
       "      <td>41</td>\n",
       "      <td>9.2</td>\n",
       "      <td>1.2</td>\n",
       "      <td>0</td>\n",
       "      <td>4</td>\n",
       "      <td>0.8</td>\n",
       "    </tr>\n",
       "    <tr>\n",
       "      <th>2</th>\n",
       "      <td>LMET</td>\n",
       "      <td>4.7</td>\n",
       "      <td>0.0</td>\n",
       "      <td>0.0</td>\n",
       "      <td>6</td>\n",
       "      <td>22.2</td>\n",
       "      <td>45</td>\n",
       "      <td>9.2</td>\n",
       "      <td>1.2</td>\n",
       "      <td>0</td>\n",
       "      <td>5</td>\n",
       "      <td>0.7</td>\n",
       "    </tr>\n",
       "    <tr>\n",
       "      <th>3</th>\n",
       "      <td>LMET</td>\n",
       "      <td>1.4</td>\n",
       "      <td>0.0</td>\n",
       "      <td>1.8</td>\n",
       "      <td>4</td>\n",
       "      <td>22.2</td>\n",
       "      <td>45</td>\n",
       "      <td>9.2</td>\n",
       "      <td>1.2</td>\n",
       "      <td>0</td>\n",
       "      <td>6</td>\n",
       "      <td>0.4</td>\n",
       "    </tr>\n",
       "    <tr>\n",
       "      <th>4</th>\n",
       "      <td>ADAWE</td>\n",
       "      <td>-3.0</td>\n",
       "      <td>0.0</td>\n",
       "      <td>0.0</td>\n",
       "      <td>6</td>\n",
       "      <td>28.0</td>\n",
       "      <td>37</td>\n",
       "      <td>9.2</td>\n",
       "      <td>1.2</td>\n",
       "      <td>0</td>\n",
       "      <td>7</td>\n",
       "      <td>0.6</td>\n",
       "    </tr>\n",
       "  </tbody>\n",
       "</table>\n",
       "</div>"
      ],
      "text/plain": [
       "  prefRoute  Max Temp (°C)  Total Rain (mm)  Total Snow (cm)  \\\n",
       "0     ADAWE            1.1              0.0              0.0   \n",
       "1      LMET            4.4              0.0              0.0   \n",
       "2      LMET            4.7              0.0              0.0   \n",
       "3      LMET            1.4              0.0              1.8   \n",
       "4     ADAWE           -3.0              0.0              0.0   \n",
       "\n",
       "   Snow on Grnd (cm)  Dir of Max Gust (10s deg)  Spd of Max Gust (km/h)  \\\n",
       "0                 15                       26.0                      35   \n",
       "1                 15                       20.0                      41   \n",
       "2                  6                       22.2                      45   \n",
       "3                  4                       22.2                      45   \n",
       "4                  6                       28.0                      37   \n",
       "\n",
       "   hours of daylight (hrs)  UV Index  holiday  weekday  humidity  \n",
       "0                      9.2       1.2        1        3       0.8  \n",
       "1                      9.2       1.2        0        4       0.8  \n",
       "2                      9.2       1.2        0        5       0.7  \n",
       "3                      9.2       1.2        0        6       0.4  \n",
       "4                      9.2       1.2        0        7       0.6  "
      ]
     },
     "execution_count": 3,
     "metadata": {},
     "output_type": "execute_result"
    }
   ],
   "source": [
    "df.head()"
   ]
  },
  {
   "cell_type": "code",
   "execution_count": 4,
   "id": "91eb7d36-0b38-499e-a5cd-77ab9d17743f",
   "metadata": {},
   "outputs": [
    {
     "name": "stdout",
     "output_type": "stream",
     "text": [
      "<class 'pandas.core.frame.DataFrame'>\n",
      "RangeIndex: 365 entries, 0 to 364\n",
      "Data columns (total 12 columns):\n",
      " #   Column                     Non-Null Count  Dtype  \n",
      "---  ------                     --------------  -----  \n",
      " 0   prefRoute                  365 non-null    object \n",
      " 1   Max Temp (°C)              365 non-null    float64\n",
      " 2   Total Rain (mm)            365 non-null    float64\n",
      " 3   Total Snow (cm)            365 non-null    float64\n",
      " 4   Snow on Grnd (cm)          365 non-null    int64  \n",
      " 5   Dir of Max Gust (10s deg)  365 non-null    float64\n",
      " 6   Spd of Max Gust (km/h)     365 non-null    int64  \n",
      " 7   hours of daylight (hrs)    365 non-null    float64\n",
      " 8   UV Index                   365 non-null    float64\n",
      " 9   holiday                    365 non-null    int64  \n",
      " 10  weekday                    365 non-null    int64  \n",
      " 11  humidity                   365 non-null    float64\n",
      "dtypes: float64(7), int64(4), object(1)\n",
      "memory usage: 34.3+ KB\n"
     ]
    }
   ],
   "source": [
    "df.info()"
   ]
  },
  {
   "cell_type": "code",
   "execution_count": 5,
   "id": "41bbfd6f-eb73-497f-8837-1070eede6854",
   "metadata": {},
   "outputs": [
    {
     "data": {
      "text/plain": [
       "Index(['prefRoute', 'Max Temp (°C)', 'Total Rain (mm)', 'Total Snow (cm)',\n",
       "       'Snow on Grnd (cm)', 'Dir of Max Gust (10s deg)',\n",
       "       'Spd of Max Gust (km/h)', 'hours of daylight (hrs)', 'UV Index',\n",
       "       'holiday', 'weekday', 'humidity'],\n",
       "      dtype='object')"
      ]
     },
     "execution_count": 5,
     "metadata": {},
     "output_type": "execute_result"
    }
   ],
   "source": [
    "df.columns"
   ]
  },
  {
   "cell_type": "code",
   "execution_count": 6,
   "id": "d86e9832-6742-4816-94e0-fafb14858fcd",
   "metadata": {},
   "outputs": [
    {
     "data": {
      "text/html": [
       "<div>\n",
       "<style scoped>\n",
       "    .dataframe tbody tr th:only-of-type {\n",
       "        vertical-align: middle;\n",
       "    }\n",
       "\n",
       "    .dataframe tbody tr th {\n",
       "        vertical-align: top;\n",
       "    }\n",
       "\n",
       "    .dataframe thead th {\n",
       "        text-align: right;\n",
       "    }\n",
       "</style>\n",
       "<table border=\"1\" class=\"dataframe\">\n",
       "  <thead>\n",
       "    <tr style=\"text-align: right;\">\n",
       "      <th></th>\n",
       "      <th>Max Temp (°C)</th>\n",
       "      <th>Total Rain (mm)</th>\n",
       "      <th>Total Snow (cm)</th>\n",
       "      <th>Snow on Grnd (cm)</th>\n",
       "      <th>Dir of Max Gust (10s deg)</th>\n",
       "      <th>Spd of Max Gust (km/h)</th>\n",
       "      <th>hours of daylight (hrs)</th>\n",
       "      <th>UV Index</th>\n",
       "      <th>holiday</th>\n",
       "      <th>weekday</th>\n",
       "      <th>humidity</th>\n",
       "    </tr>\n",
       "  </thead>\n",
       "  <tbody>\n",
       "    <tr>\n",
       "      <th>count</th>\n",
       "      <td>365.000000</td>\n",
       "      <td>365.000000</td>\n",
       "      <td>365.000000</td>\n",
       "      <td>365.000000</td>\n",
       "      <td>365.000000</td>\n",
       "      <td>365.000000</td>\n",
       "      <td>365.000000</td>\n",
       "      <td>365.000000</td>\n",
       "      <td>365.000000</td>\n",
       "      <td>365.000000</td>\n",
       "      <td>365.000000</td>\n",
       "    </tr>\n",
       "    <tr>\n",
       "      <th>mean</th>\n",
       "      <td>12.540274</td>\n",
       "      <td>1.884384</td>\n",
       "      <td>0.522192</td>\n",
       "      <td>4.432877</td>\n",
       "      <td>22.234521</td>\n",
       "      <td>45.030137</td>\n",
       "      <td>12.303288</td>\n",
       "      <td>5.013425</td>\n",
       "      <td>0.030137</td>\n",
       "      <td>3.997260</td>\n",
       "      <td>0.643288</td>\n",
       "    </tr>\n",
       "    <tr>\n",
       "      <th>std</th>\n",
       "      <td>12.188438</td>\n",
       "      <td>4.991234</td>\n",
       "      <td>2.071079</td>\n",
       "      <td>9.280963</td>\n",
       "      <td>8.233583</td>\n",
       "      <td>9.312444</td>\n",
       "      <td>2.435117</td>\n",
       "      <td>2.833126</td>\n",
       "      <td>0.171199</td>\n",
       "      <td>2.000685</td>\n",
       "      <td>0.152056</td>\n",
       "    </tr>\n",
       "    <tr>\n",
       "      <th>min</th>\n",
       "      <td>-16.300000</td>\n",
       "      <td>0.000000</td>\n",
       "      <td>0.000000</td>\n",
       "      <td>0.000000</td>\n",
       "      <td>1.000000</td>\n",
       "      <td>32.000000</td>\n",
       "      <td>8.800000</td>\n",
       "      <td>1.000000</td>\n",
       "      <td>0.000000</td>\n",
       "      <td>1.000000</td>\n",
       "      <td>0.000000</td>\n",
       "    </tr>\n",
       "    <tr>\n",
       "      <th>25%</th>\n",
       "      <td>2.700000</td>\n",
       "      <td>0.000000</td>\n",
       "      <td>0.000000</td>\n",
       "      <td>0.000000</td>\n",
       "      <td>20.000000</td>\n",
       "      <td>39.000000</td>\n",
       "      <td>9.500000</td>\n",
       "      <td>2.000000</td>\n",
       "      <td>0.000000</td>\n",
       "      <td>2.000000</td>\n",
       "      <td>0.500000</td>\n",
       "    </tr>\n",
       "    <tr>\n",
       "      <th>50%</th>\n",
       "      <td>12.600000</td>\n",
       "      <td>0.000000</td>\n",
       "      <td>0.000000</td>\n",
       "      <td>0.000000</td>\n",
       "      <td>22.200000</td>\n",
       "      <td>45.000000</td>\n",
       "      <td>12.000000</td>\n",
       "      <td>4.000000</td>\n",
       "      <td>0.000000</td>\n",
       "      <td>4.000000</td>\n",
       "      <td>0.600000</td>\n",
       "    </tr>\n",
       "    <tr>\n",
       "      <th>75%</th>\n",
       "      <td>23.100000</td>\n",
       "      <td>0.700000</td>\n",
       "      <td>0.000000</td>\n",
       "      <td>3.000000</td>\n",
       "      <td>28.000000</td>\n",
       "      <td>48.000000</td>\n",
       "      <td>14.200000</td>\n",
       "      <td>7.500000</td>\n",
       "      <td>0.000000</td>\n",
       "      <td>6.000000</td>\n",
       "      <td>0.700000</td>\n",
       "    </tr>\n",
       "    <tr>\n",
       "      <th>max</th>\n",
       "      <td>36.900000</td>\n",
       "      <td>38.900000</td>\n",
       "      <td>18.800000</td>\n",
       "      <td>49.000000</td>\n",
       "      <td>36.000000</td>\n",
       "      <td>80.000000</td>\n",
       "      <td>15.750000</td>\n",
       "      <td>9.000000</td>\n",
       "      <td>1.000000</td>\n",
       "      <td>7.000000</td>\n",
       "      <td>1.000000</td>\n",
       "    </tr>\n",
       "  </tbody>\n",
       "</table>\n",
       "</div>"
      ],
      "text/plain": [
       "       Max Temp (°C)  Total Rain (mm)  Total Snow (cm)  Snow on Grnd (cm)  \\\n",
       "count     365.000000       365.000000       365.000000         365.000000   \n",
       "mean       12.540274         1.884384         0.522192           4.432877   \n",
       "std        12.188438         4.991234         2.071079           9.280963   \n",
       "min       -16.300000         0.000000         0.000000           0.000000   \n",
       "25%         2.700000         0.000000         0.000000           0.000000   \n",
       "50%        12.600000         0.000000         0.000000           0.000000   \n",
       "75%        23.100000         0.700000         0.000000           3.000000   \n",
       "max        36.900000        38.900000        18.800000          49.000000   \n",
       "\n",
       "       Dir of Max Gust (10s deg)  Spd of Max Gust (km/h)  \\\n",
       "count                 365.000000              365.000000   \n",
       "mean                   22.234521               45.030137   \n",
       "std                     8.233583                9.312444   \n",
       "min                     1.000000               32.000000   \n",
       "25%                    20.000000               39.000000   \n",
       "50%                    22.200000               45.000000   \n",
       "75%                    28.000000               48.000000   \n",
       "max                    36.000000               80.000000   \n",
       "\n",
       "       hours of daylight (hrs)    UV Index     holiday     weekday    humidity  \n",
       "count               365.000000  365.000000  365.000000  365.000000  365.000000  \n",
       "mean                 12.303288    5.013425    0.030137    3.997260    0.643288  \n",
       "std                   2.435117    2.833126    0.171199    2.000685    0.152056  \n",
       "min                   8.800000    1.000000    0.000000    1.000000    0.000000  \n",
       "25%                   9.500000    2.000000    0.000000    2.000000    0.500000  \n",
       "50%                  12.000000    4.000000    0.000000    4.000000    0.600000  \n",
       "75%                  14.200000    7.500000    0.000000    6.000000    0.700000  \n",
       "max                  15.750000    9.000000    1.000000    7.000000    1.000000  "
      ]
     },
     "execution_count": 6,
     "metadata": {},
     "output_type": "execute_result"
    }
   ],
   "source": [
    "# numerical summary, only applies to numerical columns\n",
    "df.describe()"
   ]
  },
  {
   "cell_type": "code",
   "execution_count": 7,
   "id": "d9b06975-382e-4486-804f-9fa27a53df3b",
   "metadata": {},
   "outputs": [
    {
     "data": {
      "text/plain": [
       "365"
      ]
     },
     "execution_count": 7,
     "metadata": {},
     "output_type": "execute_result"
    }
   ],
   "source": [
    "len(df)# samples of the Bike patterns"
   ]
  },
  {
   "cell_type": "code",
   "execution_count": 8,
   "id": "86807ed0-ded2-45a9-a027-d5e0f89c64c4",
   "metadata": {},
   "outputs": [
    {
     "name": "stdout",
     "output_type": "stream",
     "text": [
      "0      ADAWE\n",
      "1       LMET\n",
      "2       LMET\n",
      "3       LMET\n",
      "4      ADAWE\n",
      "       ...  \n",
      "360    ADAWE\n",
      "361    ADAWE\n",
      "362    ADAWE\n",
      "363     OGLD\n",
      "364    ADAWE\n",
      "Name: prefRoute, Length: 365, dtype: object\n"
     ]
    }
   ],
   "source": [
    "print(df.prefRoute) # future input parameters"
   ]
  },
  {
   "cell_type": "code",
   "execution_count": 9,
   "id": "447d7a3e-6d25-4755-a1da-a7a670c38987",
   "metadata": {},
   "outputs": [],
   "source": [
    "#sns.pairplot(df,hue='prefRoute')\n",
    "\n",
    "#sns.countplot(x = 'prefRoute', data = df)"
   ]
  },
  {
   "cell_type": "code",
   "execution_count": 10,
   "id": "1370aba5-4719-46bf-9545-1c13a956bdf5",
   "metadata": {},
   "outputs": [],
   "source": [
    "from sklearn.model_selection import train_test_split"
   ]
  },
  {
   "cell_type": "code",
   "execution_count": 11,
   "id": "25b5066b-544c-429f-aae4-a525f0ab0e25",
   "metadata": {},
   "outputs": [],
   "source": [
    "# Need to set this up for Workshop\n",
    "#X = df.drop(['prefRoute', 'Total Snow (cm)', 'holiday'],axis=1)\n",
    "X = df.drop(['prefRoute'],axis=1)\n",
    "y = df['prefRoute']"
   ]
  },
  {
   "cell_type": "code",
   "execution_count": 12,
   "id": "4071d34a-c80a-475f-8ebc-fa5e35c9c21e",
   "metadata": {},
   "outputs": [
    {
     "name": "stdout",
     "output_type": "stream",
     "text": [
      "<class 'pandas.core.series.Series'>\n",
      "Index: 255 entries, 264 to 287\n",
      "Series name: prefRoute\n",
      "Non-Null Count  Dtype \n",
      "--------------  ----- \n",
      "255 non-null    object\n",
      "dtypes: object(1)\n",
      "memory usage: 4.0+ KB\n",
      "(110, 11)\n",
      "(110,)\n"
     ]
    }
   ],
   "source": [
    "X_train, X_test, y_train, y_test = train_test_split(X, y, test_size=0.3)\n",
    "y_train.info()\n",
    "print(X_test.shape)\n",
    "print(y_test.shape)"
   ]
  },
  {
   "cell_type": "code",
   "execution_count": 13,
   "id": "b71a31a2-c411-48fd-8803-ced2d3bc971c",
   "metadata": {},
   "outputs": [],
   "source": [
    "from sklearn.ensemble import RandomForestClassifier\n",
    "clf=RandomForestClassifier(n_estimators=100)"
   ]
  },
  {
   "cell_type": "code",
   "execution_count": 14,
   "id": "3a6674d5-3a61-4405-958b-ae17285c3344",
   "metadata": {},
   "outputs": [],
   "source": [
    "clf.fit(X_train,y_train)\n",
    "from sklearn import metrics\n",
    "from sklearn.metrics import roc_auc_score"
   ]
  },
  {
   "cell_type": "code",
   "execution_count": 15,
   "id": "598d87ac-6d03-4c12-b93b-e9625dfb7cd0",
   "metadata": {},
   "outputs": [
    {
     "name": "stdout",
     "output_type": "stream",
     "text": [
      "Accuracy: 0.7636363636363637\n"
     ]
    }
   ],
   "source": [
    "y_pred=clf.predict(X_test)\n",
    "print(\"Accuracy:\",metrics.accuracy_score(y_test, y_pred))"
   ]
  },
  {
   "cell_type": "markdown",
   "id": "5fb9476d",
   "metadata": {},
   "source": [
    "Let's test the model by trying to predict the route taken with a given set of data in the predict array:\n",
    "\n",
    "[Temp (°C),Total Rain (mm),Total Snow (cm),Snow on Grnd (cm),Dir of Max Gust (10s deg),Spd of Max Gust (km/h),hours of daylight (hrs),UV Index,holiday,weekday,humidity]"
   ]
  },
  {
   "cell_type": "code",
   "execution_count": 16,
   "id": "4c584365-5af3-46f9-96ba-59590c4af57d",
   "metadata": {},
   "outputs": [
    {
     "name": "stdout",
     "output_type": "stream",
     "text": [
      "['ADAWE']\n"
     ]
    }
   ],
   "source": [
    "#preferedRoute_index = clf.predict([[1.1,3.0,10.0,15,26.0,35,9.2,1.2,1,3,0.8]]) #Expect ADAWE\n",
    "#preferedRoute_index = clf.predict([[-4.1,0,6.6,8,27,35,9.2,1.2,0,1,0.4]]) # Expect LMET\n",
    "preferedRoute_index = clf.predict([[12.1,0,0,2,20,45,13.5,6.2,0,7,0.7]]) # Expect CRTZ\n",
    "\n",
    "print(preferedRoute_index)"
   ]
  },
  {
   "cell_type": "markdown",
   "id": "c30b5a0a",
   "metadata": {},
   "source": [
    "Important to keep in mind that random sub-sets are generated.  Based on the accuracy, there is still a significant chance that the predicted result could wrong.  There's more we can do to improve that."
   ]
  },
  {
   "cell_type": "code",
   "execution_count": 18,
   "id": "c925419e-5848-4edb-87ab-d8745d694355",
   "metadata": {},
   "outputs": [
    {
     "data": {
      "text/plain": [
       "Index(['Max Temp (°C)', 'hours of daylight (hrs)', 'UV Index', 'weekday',\n",
       "       'Dir of Max Gust (10s deg)', 'Spd of Max Gust (km/h)',\n",
       "       'Snow on Grnd (cm)', 'Total Rain (mm)', 'humidity', 'Total Snow (cm)',\n",
       "       'holiday'],\n",
       "      dtype='object')"
      ]
     },
     "execution_count": 18,
     "metadata": {},
     "output_type": "execute_result"
    }
   ],
   "source": [
    "from sklearn import datasets\n",
    "\n",
    "input_parameters = pd.Series(clf.feature_importances_,index=['Max Temp (°C)', 'Total Rain (mm)', 'Total Snow (cm)','Snow on Grnd (cm)', 'Dir of Max Gust (10s deg)', 'Spd of Max Gust (km/h)', 'hours of daylight (hrs)', 'UV Index','holiday', 'weekday', 'humidity']).sort_values(ascending=False)\n",
    "                          \n",
    "input_parameters.index"
   ]
  },
  {
   "cell_type": "markdown",
   "id": "d704bf7f",
   "metadata": {},
   "source": [
    "Let's look at the features in order of importance"
   ]
  },
  {
   "cell_type": "code",
   "execution_count": 19,
   "id": "c50c2422-ab0d-487a-8ca9-eed40473a1c6",
   "metadata": {},
   "outputs": [
    {
     "data": {
      "text/plain": [
       "Text(0, 0.5, 'Input Parameters')"
      ]
     },
     "execution_count": 19,
     "metadata": {},
     "output_type": "execute_result"
    },
    {
     "data": {
      "image/png": "[encoded data removed]",
      "text/plain": [
       "<Figure size 2000x400 with 1 Axes>"
      ]
     },
     "metadata": {},
     "output_type": "display_data"
    }
   ],
   "source": [
    "import matplotlib.pyplot as plt\n",
    "plt.rcParams['figure.figsize'] = [20, 4]\n",
    "\n",
    "plt.bar(input_parameters.index,input_parameters.values)\n",
    "plt.title('Input Parameters Importance')\n",
    "plt.xlabel('Input Importance Score')\n",
    "plt.ylabel('Input Parameters')"
   ]
  },
  {
   "cell_type": "markdown",
   "id": "4ef2fe6f",
   "metadata": {},
   "source": [
    "We notice that the Total Snow and Holiday features have significantly less weight compared to others.  Let's get some metrics about importance"
   ]
  },
  {
   "cell_type": "code",
   "execution_count": 20,
   "id": "c47b4b7e-635a-4a45-b724-84d2bbcefd04",
   "metadata": {},
   "outputs": [
    {
     "name": "stdout",
     "output_type": "stream",
     "text": [
      "Index(['Max Temp (°C)', 'Total Rain (mm)', 'Total Snow (cm)',\n",
      "       'Snow on Grnd (cm)', 'Dir of Max Gust (10s deg)',\n",
      "       'Spd of Max Gust (km/h)', 'hours of daylight (hrs)', 'UV Index',\n",
      "       'holiday', 'weekday', 'humidity'],\n",
      "      dtype='object')\n",
      "Variable: Max Temp (°C)        Importance: 0.17\n",
      "Variable: hours of daylight (hrs) Importance: 0.15\n",
      "Variable: UV Index             Importance: 0.14\n",
      "Variable: weekday              Importance: 0.11\n",
      "Variable: Dir of Max Gust (10s deg) Importance: 0.1\n",
      "Variable: Spd of Max Gust (km/h) Importance: 0.08\n",
      "Variable: Total Rain (mm)      Importance: 0.07\n",
      "Variable: Snow on Grnd (cm)    Importance: 0.07\n",
      "Variable: humidity             Importance: 0.06\n",
      "Variable: Total Snow (cm)      Importance: 0.02\n",
      "Variable: holiday              Importance: 0.02\n"
     ]
    },
    {
     "data": {
      "text/plain": [
       "[None, None, None, None, None, None, None, None, None, None, None]"
      ]
     },
     "execution_count": 20,
     "metadata": {},
     "output_type": "execute_result"
    }
   ],
   "source": [
    "importances = list(clf.feature_importances_)\n",
    "# List of tuples with variable and importance\n",
    "feature_list = df.columns.drop('prefRoute')\n",
    "print(feature_list)\n",
    "feature_importances = [(feature, round(importance, 2)) for feature, importance in zip(feature_list, importances)]\n",
    "# Sort the feature importances by most important first\n",
    "feature_importances = sorted(feature_importances, key = lambda x: x[1], reverse = True)\n",
    "# Print out the feature and importances \n",
    "[print('Variable: {:20} Importance: {}'.format(*pair)) for pair in feature_importances]"
   ]
  },
  {
   "cell_type": "code",
   "execution_count": 21,
   "id": "1b0f8a58-ed78-46e2-84fd-e1cd943650d5",
   "metadata": {},
   "outputs": [],
   "source": [
    "# list of x locations for plotting\n",
    "x_values = list(range(len(importances)))\n",
    "# Make a bar chart\n",
    "#plt.bar(x_values, importances, orientation = 'vertical', color = 'r', edgecolor = 'k', linewidth = 1.2)\n",
    "# Tick labels for x axis\n",
    "#plt.xticks(x_values, feature_list, rotation='vertical')\n",
    "# Axis labels and title\n",
    "#plt.ylabel('Importance'); plt.xlabel('Variable'); plt.title('Variable Importances');\n"
   ]
  },
  {
   "cell_type": "code",
   "execution_count": 22,
   "id": "7b578146-2a65-4aca-8683-12595503248e",
   "metadata": {},
   "outputs": [
    {
     "data": {
      "image/png": "[encoded data removed]",
      "text/plain": [
       "<Figure size 2000x400 with 1 Axes>"
      ]
     },
     "metadata": {},
     "output_type": "display_data"
    }
   ],
   "source": [
    "# List of features sorted from most to least important\n",
    "sorted_importances = [importance[1] for importance in feature_importances]\n",
    "sorted_features = [importance[0] for importance in feature_importances]\n",
    "# Cumulative importances\n",
    "cumulative_importances = np.cumsum(sorted_importances)\n",
    "# Make a line graph\n",
    "plt.plot(x_values, cumulative_importances, 'g-')\n",
    "# Draw line at 95% of importance retained\n",
    "plt.hlines(y = 0.95, xmin=0, xmax=len(sorted_importances), color = 'r', linestyles = 'dashed')\n",
    "# Format x ticks and labels\n",
    "plt.xticks(x_values, sorted_features, rotation = 'vertical')\n",
    "# Axis labels and title\n",
    "plt.xlabel('Variable'); plt.ylabel('Cumulative Importance'); plt.title('Cumulative Importances');\n"
   ]
  },
  {
   "cell_type": "markdown",
   "id": "54934a7f",
   "metadata": {},
   "source": [
    "Keeping the features that add up to 95% cumulative weight seems reasonable if we can get accuracy gain from it.  Let's try it."
   ]
  },
  {
   "cell_type": "code",
   "execution_count": 23,
   "id": "236b8240-3871-446f-9977-0e05b09df6c0",
   "metadata": {},
   "outputs": [
    {
     "name": "stdout",
     "output_type": "stream",
     "text": [
      "Number of features for 95% importance: 9\n"
     ]
    }
   ],
   "source": [
    "# Find number of features for cumulative importance of 95%\n",
    "# Add 1 because Python is zero-indexed\n",
    "print('Number of features for 95% importance:', np.where(cumulative_importances > 0.95)[0][0] + 1)"
   ]
  },
  {
   "cell_type": "code",
   "execution_count": 24,
   "id": "7da835bb-5247-4e00-a9af-f4ee0cded5d5",
   "metadata": {},
   "outputs": [
    {
     "name": "stdout",
     "output_type": "stream",
     "text": [
      "['Max Temp (°C)', 'hours of daylight (hrs)', 'UV Index', 'weekday', 'Dir of Max Gust (10s deg)', 'Spd of Max Gust (km/h)', 'Total Rain (mm)', 'Snow on Grnd (cm)', 'humidity', 'Total Snow (cm)', 'holiday']\n",
      "\n",
      "['Max Temp (°C)', 'hours of daylight (hrs)', 'UV Index', 'weekday', 'Dir of Max Gust (10s deg)', 'Spd of Max Gust (km/h)', 'Total Rain (mm)', 'Snow on Grnd (cm)', 'humidity']\n"
     ]
    }
   ],
   "source": [
    "print(sorted_features)\n",
    "print()\n",
    "print(sorted_features[:9])"
   ]
  },
  {
   "cell_type": "markdown",
   "id": "3eea34d7",
   "metadata": {},
   "source": [
    "9 features give us 95% cumulative weight.  Let's rerun the model with those remaining 9 features."
   ]
  },
  {
   "cell_type": "code",
   "execution_count": 25,
   "id": "770748eb-a0d0-46da-86fb-b3f8ac1ff688",
   "metadata": {},
   "outputs": [],
   "source": [
    "# Need to set this up for Workshop\n",
    "#X = df.drop(['prefRoute', 'Total Snow (cm)', 'holiday'],axis=1)\n",
    "X = df.drop(['prefRoute','humidity','Total Snow (cm)'],axis=1)\n",
    "y = df['prefRoute']"
   ]
  },
  {
   "cell_type": "code",
   "execution_count": 26,
   "id": "b326f4cd-f34c-4dd5-9d1e-5b00c53fd6d6",
   "metadata": {},
   "outputs": [
    {
     "name": "stdout",
     "output_type": "stream",
     "text": [
      "<class 'pandas.core.series.Series'>\n",
      "Index: 292 entries, 114 to 282\n",
      "Series name: prefRoute\n",
      "Non-Null Count  Dtype \n",
      "--------------  ----- \n",
      "292 non-null    object\n",
      "dtypes: object(1)\n",
      "memory usage: 4.6+ KB\n",
      "(73, 9)\n",
      "(73,)\n"
     ]
    }
   ],
   "source": [
    "X_train, X_test, y_train, y_test = train_test_split(X, y, test_size=0.2)\n",
    "y_train.info()\n",
    "print(X_test.shape)\n",
    "print(y_test.shape)"
   ]
  },
  {
   "cell_type": "markdown",
   "id": "13bdf3e4",
   "metadata": {},
   "source": [
    "First we build the model with a train/test split of 70/30.  Since we are leaning out the dataset,  we will train/test at 80/20."
   ]
  },
  {
   "cell_type": "code",
   "execution_count": 27,
   "id": "71901a8f-fc0f-44cd-90b8-66182c43757f",
   "metadata": {},
   "outputs": [],
   "source": [
    "from sklearn.ensemble import RandomForestClassifier\n",
    "clf=RandomForestClassifier(n_estimators=100)"
   ]
  },
  {
   "cell_type": "code",
   "execution_count": 28,
   "id": "f15bafe9-81cf-4d47-8957-840ade31cb74",
   "metadata": {},
   "outputs": [
    {
     "data": {
      "text/html": [
       "<style>#sk-container-id-1 {color: black;}#sk-container-id-1 pre{padding: 0;}#sk-container-id-1 div.sk-toggleable {background-color: white;}#sk-container-id-1 label.sk-toggleable__label {cursor: pointer;display: block;width: 100%;margin-bottom: 0;padding: 0.3em;box-sizing: border-box;text-align: center;}#sk-container-id-1 label.sk-toggleable__label-arrow:before {content: \"▸\";float: left;margin-right: 0.25em;color: #696969;}#sk-container-id-1 label.sk-toggleable__label-arrow:hover:before {color: black;}#sk-container-id-1 div.sk-estimator:hover label.sk-toggleable__label-arrow:before {color: black;}#sk-container-id-1 div.sk-toggleable__content {max-height: 0;max-width: 0;overflow: hidden;text-align: left;background-color: #f0f8ff;}#sk-container-id-1 div.sk-toggleable__content pre {margin: 0.2em;color: black;border-radius: 0.25em;background-color: #f0f8ff;}#sk-container-id-1 input.sk-toggleable__control:checked~div.sk-toggleable__content {max-height: 200px;max-width: 100%;overflow: auto;}#sk-container-id-1 input.sk-toggleable__control:checked~label.sk-toggleable__label-arrow:before {content: \"▾\";}#sk-container-id-1 div.sk-estimator input.sk-toggleable__control:checked~label.sk-toggleable__label {background-color: #d4ebff;}#sk-container-id-1 div.sk-label input.sk-toggleable__control:checked~label.sk-toggleable__label {background-color: #d4ebff;}#sk-container-id-1 input.sk-hidden--visually {border: 0;clip: rect(1px 1px 1px 1px);clip: rect(1px, 1px, 1px, 1px);height: 1px;margin: -1px;overflow: hidden;padding: 0;position: absolute;width: 1px;}#sk-container-id-1 div.sk-estimator {font-family: monospace;background-color: #f0f8ff;border: 1px dotted black;border-radius: 0.25em;box-sizing: border-box;margin-bottom: 0.5em;}#sk-container-id-1 div.sk-estimator:hover {background-color: #d4ebff;}#sk-container-id-1 div.sk-parallel-item::after {content: \"\";width: 100%;border-bottom: 1px solid gray;flex-grow: 1;}#sk-container-id-1 div.sk-label:hover label.sk-toggleable__label {background-color: #d4ebff;}#sk-container-id-1 div.sk-serial::before {content: \"\";position: absolute;border-left: 1px solid gray;box-sizing: border-box;top: 0;bottom: 0;left: 50%;z-index: 0;}#sk-container-id-1 div.sk-serial {display: flex;flex-direction: column;align-items: center;background-color: white;padding-right: 0.2em;padding-left: 0.2em;position: relative;}#sk-container-id-1 div.sk-item {position: relative;z-index: 1;}#sk-container-id-1 div.sk-parallel {display: flex;align-items: stretch;justify-content: center;background-color: white;position: relative;}#sk-container-id-1 div.sk-item::before, #sk-container-id-1 div.sk-parallel-item::before {content: \"\";position: absolute;border-left: 1px solid gray;box-sizing: border-box;top: 0;bottom: 0;left: 50%;z-index: -1;}#sk-container-id-1 div.sk-parallel-item {display: flex;flex-direction: column;z-index: 1;position: relative;background-color: white;}#sk-container-id-1 div.sk-parallel-item:first-child::after {align-self: flex-end;width: 50%;}#sk-container-id-1 div.sk-parallel-item:last-child::after {align-self: flex-start;width: 50%;}#sk-container-id-1 div.sk-parallel-item:only-child::after {width: 0;}#sk-container-id-1 div.sk-dashed-wrapped {border: 1px dashed gray;margin: 0 0.4em 0.5em 0.4em;box-sizing: border-box;padding-bottom: 0.4em;background-color: white;}#sk-container-id-1 div.sk-label label {font-family: monospace;font-weight: bold;display: inline-block;line-height: 1.2em;}#sk-container-id-1 div.sk-label-container {text-align: center;}#sk-container-id-1 div.sk-container {/* jupyter's `normalize.less` sets `[hidden] { display: none; }` but bootstrap.min.css set `[hidden] { display: none !important; }` so we also need the `!important` here to be able to override the default hidden behavior on the sphinx rendered scikit-learn.org. See: https://github.com/scikit-learn/scikit-learn/issues/21755 */display: inline-block !important;position: relative;}#sk-container-id-1 div.sk-text-repr-fallback {display: none;}</style><div id=\"sk-container-id-1\" class=\"sk-top-container\"><div class=\"sk-text-repr-fallback\"><pre>RandomForestClassifier()</pre><b>In a Jupyter environment, please rerun this cell to show the HTML representation or trust the notebook. <br />On GitHub, the HTML representation is unable to render, please try loading this page with nbviewer.org.</b></div><div class=\"sk-container\" hidden><div class=\"sk-item\"><div class=\"sk-estimator sk-toggleable\"><input class=\"sk-toggleable__control sk-hidden--visually\" id=\"sk-estimator-id-1\" type=\"checkbox\" checked><label for=\"sk-estimator-id-1\" class=\"sk-toggleable__label sk-toggleable__label-arrow\">RandomForestClassifier</label><div class=\"sk-toggleable__content\"><pre>RandomForestClassifier()</pre></div></div></div></div></div>"
      ],
      "text/plain": [
       "RandomForestClassifier()"
      ]
     },
     "execution_count": 28,
     "metadata": {},
     "output_type": "execute_result"
    }
   ],
   "source": [
    "clf.fit(X_train,y_train)"
   ]
  },
  {
   "cell_type": "code",
   "execution_count": 29,
   "id": "492437e2-de0c-4b26-9960-a0cb9905cac9",
   "metadata": {},
   "outputs": [],
   "source": [
    "y_pred=clf.predict(X_test)"
   ]
  },
  {
   "cell_type": "code",
   "execution_count": 30,
   "id": "4d288417-0264-4db6-88c1-29f8a25a8067",
   "metadata": {},
   "outputs": [],
   "source": [
    "# drop 'humidity','Total Snow (cm)'\n",
    "# Original ['prefRoute', 'Max Temp (°C)', 'Total Rain (mm)', 'Total Snow (cm)',\n",
    "#       'Snow on Grnd (cm)', 'Dir of Max Gust (10s deg)',\n",
    "#       'Spd of Max Gust (km/h)', 'hours of daylight (hrs)', 'UV Index',\n",
    "#       'holiday', 'weekday', 'humidity']"
   ]
  },
  {
   "cell_type": "code",
   "execution_count": 31,
   "id": "7460ee4e-3696-4cc4-8051-540e4fb2541d",
   "metadata": {},
   "outputs": [
    {
     "name": "stdout",
     "output_type": "stream",
     "text": [
      "['ADAWE']\n"
     ]
    }
   ],
   "source": [
    "# Quick check to make sure the model still works as expected\n",
    "preferedRoute_index = clf.predict([[8.7,0,0,2,31,52,13.5,6.2,0]])\n",
    "print(preferedRoute_index)"
   ]
  },
  {
   "cell_type": "code",
   "execution_count": 32,
   "id": "001779d2-b166-4ea7-b618-4b693e58cf30",
   "metadata": {},
   "outputs": [],
   "source": [
    "from sklearn import metrics"
   ]
  },
  {
   "cell_type": "code",
   "execution_count": 33,
   "id": "f73f3f96-31e3-4c47-8d44-36987fa091a7",
   "metadata": {},
   "outputs": [],
   "source": [
    "#print(list(y_test))\n",
    "#print(list(y_pred))"
   ]
  },
  {
   "cell_type": "code",
   "execution_count": 34,
   "id": "8bcc9a42-247e-49db-9366-01d266a53582",
   "metadata": {},
   "outputs": [
    {
     "name": "stdout",
     "output_type": "stream",
     "text": [
      "Accuracy: 0.821917808219178\n"
     ]
    }
   ],
   "source": [
    "print(\"Accuracy:\",metrics.accuracy_score(y_test, y_pred))"
   ]
  },
  {
   "cell_type": "markdown",
   "id": "73d5a85f",
   "metadata": {},
   "source": [
    "Most of the time, there will be a significant improvement.  However, we notived that if the original model was already near 80% , removing the features won't have an impact.  We know from the \"ML cleaning and regression\" workshop that this dataset is very noisy and so it is expected that there could be noticible variance in the outcome of the model. "
   ]
  },
  {
   "cell_type": "markdown",
   "id": "b9c6bbda-ec3f-4dc9-ac47-ae21a088d7db",
   "metadata": {},
   "source": [
    "Removing low importance features in a random forest can have the following effects:\n",
    "- Improves model performance: Eliminating noisy, irrelevant or misleading features prevents them from negatively impacting individual decision trees. This can improve overall random forest accuracy.\n",
    "- Reduces overfitting: Less features means less likelihood of overfitting to spurious patterns. Removal of unimportant features acts as a form of regularization.\n",
    "- Speeds up computation: As the number of features decreases, so does the time to train and evaluate trees. Pruning features reduces complexity and increases efficiency.\n",
    "- Enhances interpretability: Focusing on the most important features makes it easier to explain predictions and understand model behavior. The core signal is retained.\n",
    "- May decrease model variance: Removing extraneous features may lower variance between individual trees, tightening predictions. But could also remove useful predictors.\n",
    "- Risks losing information: Low importance may still contain some useful signal. Eliminating too aggressively may degrade model performance if important interactions exist.\n",
    "The effect also depends on why a feature has low importance. It may be irrelevant or it may be redundant. Redundant features can likely be removed with a minimal impact on model accuracy. But irrelevant features should definitely be removed to improve the random forest."
   ]
  },
  {
   "cell_type": "markdown",
   "id": "c0d1966a-67bd-49de-968c-c30726741d79",
   "metadata": {},
   "source": [
    "**However, it should be noted that ...**\n",
    "\n",
    "In some situations, removing low importance features can lower the accuracy of a random forest model:\n",
    "- Highly correlated features: If two features are highly correlated, one may get rated as less important. But eliminating it removes useful signal.\n",
    "- Small dataset size: With little data, importance scores are less reliable. Removing features deemed unimportant could remove useful predictors.\n",
    "- Interactions with other features: A feature may not be directly predictive but could have interactions that contribute to accuracy. Its removal disables these interactions.\n",
    "- Noise reduction: A feature with little signal may be acting as a noise filter that improves accuracy. Removing it eliminates this regularization effect.\n",
    "- Target leakage: A feature unrelated to the target may leak signal from the target itself. Removing it eliminates this leakage which benefited accuracy.\n",
    "- Simplistic importance metric: The importance metric used may not fully capture a feature's contribution. The tree structure matters.\n",
    "- Capturing side effects: An unimportant feature may capture some secondary effects or proxies that contribute a bit to accuracy.\n",
    "In general, if the low importance features exhibit any interactions, redundancies or hidden effects, removing too many of them could degrade the performance of the random forest model. A careful balance is needed."
   ]
  },
  {
   "cell_type": "code",
   "execution_count": null,
   "id": "22d7fe34-c756-4e73-8daf-8509859663c6",
   "metadata": {},
   "outputs": [],
   "source": []
  }
 ],
 "metadata": {
  "kernelspec": {
   "display_name": "Python 3 (ipykernel)",
   "language": "python",
   "name": "python3"
  },
  "language_info": {
   "codemirror_mode": {
    "name": "ipython",
    "version": 3
   },
   "file_extension": ".py",
   "mimetype": "text/x-python",
   "name": "python",
   "nbconvert_exporter": "python",
   "pygments_lexer": "ipython3",
   "version": "3.11.5"
  }
 },
 "nbformat": 4,
 "nbformat_minor": 5
}
